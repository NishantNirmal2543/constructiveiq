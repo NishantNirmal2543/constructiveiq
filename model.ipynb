{
 "cells": [
  {
   "cell_type": "code",
   "execution_count": 1,
   "id": "8eb0bb71-09a3-467f-b86d-63cf442d8fe7",
   "metadata": {
    "tags": []
   },
   "outputs": [
    {
     "name": "stdout",
     "output_type": "stream",
     "text": [
      "Submission file 'submission.csv' created.\n"
     ]
    }
   ],
   "source": [
    "import pandas as pd\n",
    "from sklearn.feature_extraction.text import TfidfVectorizer\n",
    "from sklearn.ensemble import RandomForestRegressor\n",
    "from sklearn.metrics.pairwise import cosine_similarity\n",
    "from sklearn.model_selection import train_test_split\n",
    "import numpy as np\n",
    "\n",
    "materials = pd.read_csv('materials.csv')\n",
    "test_pairs = pd.read_csv('test_pairs.csv')\n",
    "\n",
    "tfidf = TfidfVectorizer(max_features=1000, stop_words='english')\n",
    "tfidf_matrix = tfidf.fit_transform(materials['Material_Description'])\n",
    "\n",
    "def compute_similarity_features(id1, id2):\n",
    "    vec1 = tfidf_matrix[id1-1] \n",
    "    vec2 = tfidf_matrix[id2-1]  \n",
    "    cosine_sim = cosine_similarity(vec1, vec2)[0][0]\n",
    "    return [cosine_sim]\n",
    "\n",
    "X_test = []\n",
    "for _, row in test_pairs.iterrows():\n",
    "    features = compute_similarity_features(row['ID_1'], row['ID_2'])\n",
    "    X_test.append(features)\n",
    "\n",
    "X_test = np.array(X_test)\n",
    "\n",
    "\n",
    "\n",
    "np.random.seed(42)\n",
    "train_pairs = np.random.randint(1, len(materials)+1, size=(2000, 2))\n",
    "\n",
    "X_train = []\n",
    "y_train = []\n",
    "for pair in train_pairs:\n",
    "    id1, id2 = pair[0], pair[1]\n",
    "    features = compute_similarity_features(id1, id2)\n",
    "    X_train.append(features)\n",
    "    if id1 == id2:\n",
    "        y_train.append(1)\n",
    "    else:\n",
    "        cosine_sim = features[0]\n",
    "        y_train.append(1 if cosine_sim > 0.8 else 0)\n",
    "\n",
    "X_train = np.array(X_train)\n",
    "y_train = np.array(y_train)\n",
    "\n",
    "X_train, X_val, y_train, y_val = train_test_split(X_train, y_train, test_size=0.2, random_state=42)\n",
    "\n",
    "rf_model = RandomForestRegressor(n_estimators=100, random_state=42)\n",
    "rf_model.fit(X_train, y_train)\n",
    "\n",
    "val_predictions = rf_model.predict(X_val)\n",
    "val_predictions = np.clip(val_predictions, 0, 1)  \n",
    "\n",
    "\n",
    "test_predictions = rf_model.predict(X_test)\n",
    "test_predictions = np.clip(test_predictions, 0, 1)  \n",
    "\n",
    "submission = test_pairs.copy()\n",
    "submission['Similarity_Score'] = test_predictions\n",
    "\n",
    "submission.to_csv('submission.csv', index=False)\n",
    "\n",
    "print(\"Submission file 'submission.csv' created.\")\n"
   ]
  },
  {
   "cell_type": "code",
   "execution_count": null,
   "id": "21bc0352-3ff1-469a-abf7-4b17100238f7",
   "metadata": {},
   "outputs": [],
   "source": []
  }
 ],
 "metadata": {
  "kernelspec": {
   "display_name": "Python 3 (ipykernel)",
   "language": "python",
   "name": "python3"
  },
  "language_info": {
   "codemirror_mode": {
    "name": "ipython",
    "version": 3
   },
   "file_extension": ".py",
   "mimetype": "text/x-python",
   "name": "python",
   "nbconvert_exporter": "python",
   "pygments_lexer": "ipython3",
   "version": "3.11.5"
  }
 },
 "nbformat": 4,
 "nbformat_minor": 5
}
